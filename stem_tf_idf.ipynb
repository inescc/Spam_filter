{
 "cells": [
  {
   "cell_type": "markdown",
   "metadata": {},
   "source": [
    "# TF_IDF"
   ]
  },
  {
   "cell_type": "code",
   "execution_count": 54,
   "metadata": {
    "collapsed": true
   },
   "outputs": [],
   "source": [
    "%config IPCompleter.greedy=True"
   ]
  },
  {
   "cell_type": "markdown",
   "metadata": {},
   "source": [
    "## 1. Import packages"
   ]
  },
  {
   "cell_type": "code",
   "execution_count": 55,
   "metadata": {},
   "outputs": [],
   "source": [
    "import numpy as np  \n",
    "import pandas as pd \n",
    "## nltk\n",
    "from nltk.tokenize import RegexpTokenizer \n",
    "from nltk.corpus import stopwords\n",
    "from nltk.stem import PorterStemmer\n",
    "from nltk.stem.snowball import SnowballStemmer\n",
    "from nltk.stem import WordNetLemmatizer\n",
    "import re\n",
    "## sklearn\n",
    "from sklearn.metrics import average_precision_score, accuracy_score\n",
    "from sklearn.model_selection import GridSearchCV\n",
    "from sklearn.model_selection import train_test_split \n",
    "from sklearn.feature_extraction.text import TfidfVectorizer\n",
    "from sklearn.cross_validation import cross_val_score\n",
    "## classifiers\n",
    "from sklearn.neighbors import KNeighborsClassifier\n",
    "from sklearn import tree\n",
    "from sklearn.ensemble import RandomForestClassifier\n",
    "from sklearn.svm import SVC\n",
    "from sklearn.naive_bayes import MultinomialNB\n",
    "from sklearn.linear_model import LogisticRegression\n",
    "from sklearn.gaussian_process import GaussianProcessClassifier\n",
    "## matplotlib\n",
    "import matplotlib.pyplot as plt\n",
    "%matplotlib inline"
   ]
  },
  {
   "cell_type": "markdown",
   "metadata": {},
   "source": [
    "## 2. Data"
   ]
  },
  {
   "cell_type": "code",
   "execution_count": 94,
   "metadata": {},
   "outputs": [],
   "source": [
    "train = pd.read_csv('./emails.train.csv')\n",
    "text = train['text']\n",
    "# ham_count = train[train['spam']==0]\n",
    "# spam_count = train[train['spam']==1]"
   ]
  },
  {
   "cell_type": "markdown",
   "metadata": {},
   "source": [
    "## 3. Define Methods for Text Processing "
   ]
  },
  {
   "cell_type": "code",
   "execution_count": 57,
   "metadata": {
    "collapsed": true
   },
   "outputs": [],
   "source": [
    "re_tokenizer = RegexpTokenizer(r'\\b[^\\d\\W]+\\b') # tokenize words that are not numbers\n",
    "mystopwords = set(stopwords.words('english')) # stop words remover\n",
    "extras = set(['_', 'subject']) # remove subject and _\n",
    "mystopwords.update(extras)\n",
    "ps = PorterStemmer() # stemming words\n",
    "stemmer = SnowballStemmer(\"english\") # stemming words\n",
    "lemmatizer = WordNetLemmatizer() # lemmatizing words"
   ]
  },
  {
   "cell_type": "markdown",
   "metadata": {},
   "source": [
    "## 4. Perform Text Processing"
   ]
  },
  {
   "cell_type": "code",
   "execution_count": 58,
   "metadata": {
    "collapsed": true
   },
   "outputs": [],
   "source": [
    "## First, lemmatize and create list of words\n",
    "def stemm(df):\n",
    "    for i, line in enumerate(df['text']): \n",
    "        newline = [] \n",
    "        words = line.split() \n",
    "        for word in words: \n",
    "            word = stemmer.stem(word) \n",
    "            newline.append(word)\n",
    "        new = ' '.join(newline)  \n",
    "        df.loc[i, 'text'] = new # replace line at the index position with the new line that is the lemmatized words\n",
    "\n"
   ]
  },
  {
   "cell_type": "code",
   "execution_count": 59,
   "metadata": {},
   "outputs": [],
   "source": [
    "## dirty data\n",
    "train = pd.read_csv('./emails.train.csv')\n",
    "test  = pd.read_csv('./emails.test.csv')\n",
    "\n",
    "## clean data\n",
    "stemm(train)\n",
    "stemm(test)\n",
    "\n",
    "\n",
    "### We tried train_test_split but decided to go for cross-validation instead\n",
    "#subtrain_X, subval_X = train_test_split(train, test_size = 0.25)\n",
    "\n",
    "Y_train = train['spam'] ## labels\n",
    "Y_test = test['spam'] ## labels"
   ]
  },
  {
   "cell_type": "markdown",
   "metadata": {},
   "source": [
    "## 5. TF_IDF Feature Extraction"
   ]
  },
  {
   "cell_type": "code",
   "execution_count": 60,
   "metadata": {},
   "outputs": [],
   "source": [
    "vectorizer = TfidfVectorizer(stop_words=mystopwords, tokenizer=re_tokenizer.tokenize, max_features = 2000)\n",
    "v = vectorizer.fit(train['text'])\n",
    "\n",
    "X_train = v.transform(train['text']).todense() ## features\n",
    "X_test = v.transform(test['text']).todense() ## features\n"
   ]
  },
  {
   "cell_type": "markdown",
   "metadata": {},
   "source": [
    "## 6. Model Evaluation"
   ]
  },
  {
   "cell_type": "markdown",
   "metadata": {},
   "source": [
    "### Create Empty Arrays to Use for Plotting Evaluation Results"
   ]
  },
  {
   "cell_type": "code",
   "execution_count": 61,
   "metadata": {},
   "outputs": [],
   "source": [
    "method_name = []\n",
    "accuracy_value = []"
   ]
  },
  {
   "cell_type": "markdown",
   "metadata": {},
   "source": [
    "### Model 1: KNN Classifier"
   ]
  },
  {
   "cell_type": "markdown",
   "metadata": {},
   "source": [
    "#### Cross-validation to select hyperparameter"
   ]
  },
  {
   "cell_type": "code",
   "execution_count": 62,
   "metadata": {},
   "outputs": [
    {
     "name": "stdout",
     "output_type": "stream",
     "text": [
      "[0.94454142780894501, 0.89754677045765641, 0.91096232912527508, 0.89180432589501402, 0.97214911500922518, 0.96120380443407727, 0.97363484397902467, 0.96741838907909039, 0.97089789907414858, 0.9684121886683611]\n"
     ]
    }
   ],
   "source": [
    "k_range = list(range(1, 11))\n",
    "k_scores = []\n",
    "for k in k_range:\n",
    "    knn = KNeighborsClassifier(n_neighbors=k)\n",
    "    scores = cross_val_score(knn, X_train, Y_train, cv=10, scoring='accuracy')\n",
    "    k_scores.append(scores.mean())\n",
    "print(k_scores)"
   ]
  },
  {
   "cell_type": "markdown",
   "metadata": {},
   "source": [
    "#### Plot results accuracy scores"
   ]
  },
  {
   "cell_type": "code",
   "execution_count": 63,
   "metadata": {},
   "outputs": [
    {
     "data": {
      "text/plain": [
       "Text(0,0.5,'Cross-Validated Accuracy')"
      ]
     },
     "execution_count": 63,
     "metadata": {},
     "output_type": "execute_result"
    },
    {
     "data": {
      "image/png": "[encoded data removed]",
      "text/plain": [
       "<matplotlib.figure.Figure at 0x105a9fe10>"
      ]
     },
     "metadata": {},
     "output_type": "display_data"
    }
   ],
   "source": [
    "plt.plot(k_range, k_scores)\n",
    "plt.xlabel('Value of K for KNN')\n",
    "plt.ylabel('Cross-Validated Accuracy')"
   ]
  },
  {
   "cell_type": "markdown",
   "metadata": {},
   "source": [
    "#### With higest accuracy parameter, perform cross-validation for model selection"
   ]
  },
  {
   "cell_type": "code",
   "execution_count": 64,
   "metadata": {},
   "outputs": [
    {
     "name": "stdout",
     "output_type": "stream",
     "text": [
      "0.973634843979\n"
     ]
    }
   ],
   "source": [
    "knn = KNeighborsClassifier(n_neighbors=7) \n",
    "scores = cross_val_score(knn, X_train, Y_train, cv=10, scoring='accuracy').mean()\n",
    "print(scores)"
   ]
  },
  {
   "cell_type": "markdown",
   "metadata": {},
   "source": [
    "#### Store method name and average accuracy on variables"
   ]
  },
  {
   "cell_type": "code",
   "execution_count": 65,
   "metadata": {},
   "outputs": [
    {
     "name": "stdout",
     "output_type": "stream",
     "text": [
      "['KNN']\n",
      "[0.97363484397902467]\n"
     ]
    }
   ],
   "source": [
    "method_name.append('KNN')\n",
    "accuracy_value.append(scores)\n",
    "print(method_name)\n",
    "print(accuracy_value)"
   ]
  },
  {
   "cell_type": "markdown",
   "metadata": {},
   "source": [
    "### Model 2: Decision Tree"
   ]
  },
  {
   "cell_type": "markdown",
   "metadata": {},
   "source": [
    "#### Perform cross-validation for model selection"
   ]
  },
  {
   "cell_type": "code",
   "execution_count": 66,
   "metadata": {},
   "outputs": [
    {
     "name": "stdout",
     "output_type": "stream",
     "text": [
      "0.955483636686\n"
     ]
    }
   ],
   "source": [
    "dtree = tree.DecisionTreeClassifier()\n",
    "scores = cross_val_score(dtree, X_train, Y_train, cv = 10, scoring = 'accuracy').mean()\n",
    "print(scores)"
   ]
  },
  {
   "cell_type": "markdown",
   "metadata": {},
   "source": [
    "#### Store method name and average accuracy on variables"
   ]
  },
  {
   "cell_type": "code",
   "execution_count": 67,
   "metadata": {},
   "outputs": [
    {
     "name": "stdout",
     "output_type": "stream",
     "text": [
      "['KNN', 'DecisionTree']\n",
      "[0.97363484397902467, 0.95548363668560299]\n"
     ]
    }
   ],
   "source": [
    "method_name.append('DecisionTree')\n",
    "accuracy_value.append(scores)\n",
    "print(method_name)\n",
    "print(accuracy_value)"
   ]
  },
  {
   "cell_type": "markdown",
   "metadata": {},
   "source": [
    "### Model 3: Random Forest Classifier"
   ]
  },
  {
   "cell_type": "markdown",
   "metadata": {},
   "source": [
    "#### Cross-validation to select hyperparameter"
   ]
  },
  {
   "cell_type": "code",
   "execution_count": 68,
   "metadata": {},
   "outputs": [
    {
     "name": "stdout",
     "output_type": "stream",
     "text": [
      "[0.97388918941242986, 0.97015781534275869, 0.97588047676446088, 0.97264787428364996, 0.97438545809223598, 0.97737176416267091, 0.97463359705005226, 0.97339476020145566, 0.9773655853945622, 0.97438545809223598, 0.97414102577956319, 0.9761242702657823, 0.97861495262498044, 0.97960934484646867, 0.98060437895791741, 0.97662427021960307, 0.98060313827852141, 0.97861494338915378, 0.98085066921107544, 0.98060500545483331, 0.97712364059789913, 0.97587985334615401, 0.97786496193007599, 0.97786929815074441, 0.97886060714539591, 0.97961059476169154, 0.97910936336430132, 0.98010748070258669, 0.9808586966838424, 0.98060561963731341, 0.98135126795433192, 0.98259196274341376, 0.98084818477367453, 0.97786929507213538, 0.97936121820308808, 0.98110127413463921, 0.97935998368090993, 0.97886555754854443, 0.97886432302636606, 0.97911245890557352]\n"
     ]
    }
   ],
   "source": [
    "rforest = RandomForestClassifier()\n",
    "k_range = range(11, 51)\n",
    "k_scores = []\n",
    "for k in k_range:\n",
    "    rforest = RandomForestClassifier(n_estimators= k)\n",
    "    scores = cross_val_score(rforest, X_train, Y_train, cv = 10, scoring = 'accuracy')\n",
    "    k_scores.append(scores.mean())\n",
    "print(k_scores)\n"
   ]
  },
  {
   "cell_type": "markdown",
   "metadata": {},
   "source": [
    "#### Plot results accuracy scores"
   ]
  },
  {
   "cell_type": "code",
   "execution_count": 69,
   "metadata": {},
   "outputs": [
    {
     "data": {
      "text/plain": [
       "Text(0,0.5,'Cross-Validated Accuracy')"
      ]
     },
     "execution_count": 69,
     "metadata": {},
     "output_type": "execute_result"
    },
    {
     "data": {
      "image/png": "[encoded data removed]",
      "text/plain": [
       "<matplotlib.figure.Figure at 0x105aa86d8>"
      ]
     },
     "metadata": {},
     "output_type": "display_data"
    }
   ],
   "source": [
    "plt.plot(k_range, k_scores)\n",
    "plt.xlabel('Value of K for RandomForest')\n",
    "plt.ylabel('Cross-Validated Accuracy')"
   ]
  },
  {
   "cell_type": "markdown",
   "metadata": {},
   "source": [
    "#### With higest accuracy parameter, perform cross-validation for model selection"
   ]
  },
  {
   "cell_type": "code",
   "execution_count": 70,
   "metadata": {},
   "outputs": [
    {
     "name": "stdout",
     "output_type": "stream",
     "text": [
      "0.982098783448\n"
     ]
    }
   ],
   "source": [
    "rforest = RandomForestClassifier(n_estimators=50)\n",
    "scores = cross_val_score(rforest, X_train, Y_train, cv = 10, scoring = 'accuracy').mean()\n",
    "print(scores)"
   ]
  },
  {
   "cell_type": "markdown",
   "metadata": {},
   "source": [
    "#### Store method name and average accuracy on variables"
   ]
  },
  {
   "cell_type": "code",
   "execution_count": 71,
   "metadata": {},
   "outputs": [
    {
     "name": "stdout",
     "output_type": "stream",
     "text": [
      "['KNN', 'DecisionTree', 'RandomForest']\n",
      "[0.97363484397902467, 0.95548363668560299, 0.98209878344766222]\n"
     ]
    }
   ],
   "source": [
    "method_name.append('RandomForest')\n",
    "accuracy_value.append(scores)\n",
    "print(method_name)\n",
    "print(accuracy_value)"
   ]
  },
  {
   "cell_type": "markdown",
   "metadata": {},
   "source": [
    "### Model 4: SVM "
   ]
  },
  {
   "cell_type": "markdown",
   "metadata": {},
   "source": [
    "#### Perform cross-validation for model selection"
   ]
  },
  {
   "cell_type": "code",
   "execution_count": 72,
   "metadata": {},
   "outputs": [
    {
     "name": "stdout",
     "output_type": "stream",
     "text": [
      "0.762995230034\n"
     ]
    }
   ],
   "source": [
    "svm = SVC()\n",
    "scores = cross_val_score(svm, X_train, Y_train, cv = 10, scoring = 'accuracy').mean()\n",
    "print(scores)"
   ]
  },
  {
   "cell_type": "markdown",
   "metadata": {},
   "source": [
    "#### Store method name and average accuracy on variables"
   ]
  },
  {
   "cell_type": "code",
   "execution_count": 73,
   "metadata": {},
   "outputs": [
    {
     "name": "stdout",
     "output_type": "stream",
     "text": [
      "['KNN', 'DecisionTree', 'RandomForest', 'SVM']\n",
      "[0.97363484397902467, 0.95548363668560299, 0.98209878344766222, 0.76299523003412051]\n"
     ]
    }
   ],
   "source": [
    "method_name.append('SVM')\n",
    "accuracy_value.append(scores)\n",
    "print(method_name)\n",
    "print(accuracy_value)"
   ]
  },
  {
   "cell_type": "markdown",
   "metadata": {},
   "source": [
    "### Model 5: Multinomial Naive Bayes"
   ]
  },
  {
   "cell_type": "markdown",
   "metadata": {},
   "source": [
    "#### Perform cross-validation for model selection"
   ]
  },
  {
   "cell_type": "code",
   "execution_count": 74,
   "metadata": {},
   "outputs": [
    {
     "name": "stdout",
     "output_type": "stream",
     "text": [
      "0.984082651352\n"
     ]
    }
   ],
   "source": [
    "nb = MultinomialNB()\n",
    "scores = cross_val_score(nb, X_train, Y_train, cv = 10, scoring = 'accuracy').mean()\n",
    "print(scores)"
   ]
  },
  {
   "cell_type": "markdown",
   "metadata": {},
   "source": [
    "#### Store method name and average accuracy on variables"
   ]
  },
  {
   "cell_type": "code",
   "execution_count": 75,
   "metadata": {},
   "outputs": [
    {
     "name": "stdout",
     "output_type": "stream",
     "text": [
      "['KNN', 'DecisionTree', 'RandomForest', 'SVM', 'NaiveBayes']\n",
      "[0.97363484397902467, 0.95548363668560299, 0.98209878344766222, 0.76299523003412051, 0.98408265135218809]\n"
     ]
    }
   ],
   "source": [
    "method_name.append('NaiveBayes')\n",
    "accuracy_value.append(scores)\n",
    "print(method_name)\n",
    "print(accuracy_value)"
   ]
  },
  {
   "cell_type": "markdown",
   "metadata": {},
   "source": [
    "### Model 6: Logistic Regression"
   ]
  },
  {
   "cell_type": "markdown",
   "metadata": {},
   "source": [
    "#### Perform cross-validation for model selection"
   ]
  },
  {
   "cell_type": "code",
   "execution_count": 76,
   "metadata": {},
   "outputs": [
    {
     "name": "stdout",
     "output_type": "stream",
     "text": [
      "0.982341351663\n"
     ]
    }
   ],
   "source": [
    "logreg = LogisticRegression()\n",
    "scores = cross_val_score(logreg, X_train, Y_train, cv=10, scoring='accuracy').mean()\n",
    "print(scores)"
   ]
  },
  {
   "cell_type": "markdown",
   "metadata": {},
   "source": [
    "#### Store method name and average accuracy on variables"
   ]
  },
  {
   "cell_type": "code",
   "execution_count": 77,
   "metadata": {},
   "outputs": [
    {
     "name": "stdout",
     "output_type": "stream",
     "text": [
      "['KNN', 'DecisionTree', 'RandomForest', 'SVM', 'NaiveBayes', 'LogisticRegression']\n",
      "[0.97363484397902467, 0.95548363668560299, 0.98209878344766222, 0.76299523003412051, 0.98408265135218809, 0.98234135166263203]\n"
     ]
    }
   ],
   "source": [
    "method_name.append('LogisticRegression')\n",
    "accuracy_value.append(scores)\n",
    "print(method_name)\n",
    "print(accuracy_value)"
   ]
  },
  {
   "cell_type": "markdown",
   "metadata": {},
   "source": [
    "### Model 7: Gaussian Process Classifier "
   ]
  },
  {
   "cell_type": "markdown",
   "metadata": {},
   "source": [
    "#### Perform cross-validation for model selection"
   ]
  },
  {
   "cell_type": "code",
   "execution_count": 78,
   "metadata": {},
   "outputs": [
    {
     "name": "stdout",
     "output_type": "stream",
     "text": [
      "0.969412790444\n"
     ]
    }
   ],
   "source": [
    "gp = GaussianProcessClassifier()\n",
    "scores = cross_val_score(gp, X_train, Y_train, cv=10, scoring='accuracy').mean()\n",
    "print(scores)"
   ]
  },
  {
   "cell_type": "markdown",
   "metadata": {},
   "source": [
    "#### Store method name and average accuracy on variables"
   ]
  },
  {
   "cell_type": "code",
   "execution_count": 79,
   "metadata": {},
   "outputs": [
    {
     "name": "stdout",
     "output_type": "stream",
     "text": [
      "['KNN', 'DecisionTree', 'RandomForest', 'SVM', 'NaiveBayes', 'LogisticRegression', 'GaussianProcess']\n",
      "[0.97363484397902467, 0.95548363668560299, 0.98209878344766222, 0.76299523003412051, 0.98408265135218809, 0.98234135166263203, 0.96941279044404727]\n"
     ]
    }
   ],
   "source": [
    "method_name.append('GaussianProcess')\n",
    "accuracy_value.append(scores)\n",
    "print(method_name)\n",
    "print(accuracy_value)"
   ]
  },
  {
   "cell_type": "markdown",
   "metadata": {},
   "source": [
    "### Plot evaluation results"
   ]
  },
  {
   "cell_type": "code",
   "execution_count": 80,
   "metadata": {},
   "outputs": [
    {
     "data": {
      "text/plain": [
       "Text(0,0.5,'Cross-Validated Accuracy')"
      ]
     },
     "execution_count": 80,
     "metadata": {},
     "output_type": "execute_result"
    },
    {
     "data": {
      "image/png": "[encoded data removed]",
      "text/plain": [
       "<matplotlib.figure.Figure at 0x10ae8a630>"
      ]
     },
     "metadata": {},
     "output_type": "display_data"
    }
   ],
   "source": [
    "fig = plt.figure(figsize=(10, 4), dpi=150)\n",
    "\n",
    "plt.plot(method_name, accuracy_value, 'ro')\n",
    "plt.xlabel('Method')\n",
    "plt.ylabel('Cross-Validated Accuracy')"
   ]
  },
  {
   "cell_type": "markdown",
   "metadata": {},
   "source": [
    "## 7. Predictions"
   ]
  },
  {
   "cell_type": "code",
   "execution_count": 111,
   "metadata": {},
   "outputs": [
    {
     "name": "stdout",
     "output_type": "stream",
     "text": [
      "1707\n",
      "1707\n",
      "0.97539543058\n"
     ]
    }
   ],
   "source": [
    "print(len(X_test))\n",
    "print(len(Y_test))\n",
    "knnn = KNeighborsClassifier(n_neighbors=7)\n",
    "\n",
    "knnn.fit(X_train, Y_train)\n",
    "\n",
    "Y_pred = nb.predict(X_test)\n",
    "\n",
    "print(accuracy_score(Y_test, Y_pred))\n",
    "\n"
   ]
  },
  {
   "cell_type": "markdown",
   "metadata": {},
   "source": [
    "#### Write to csv solution"
   ]
  },
  {
   "cell_type": "code",
   "execution_count": 112,
   "metadata": {
    "collapsed": true
   },
   "outputs": [],
   "source": [
    "pd.DataFrame({\n",
    "    'id': test.id,\n",
    "    'spam': Y_pred\n",
    "}).to_csv('predictions.knn.csv', index=False)"
   ]
  },
  {
   "cell_type": "code",
   "execution_count": null,
   "metadata": {
    "collapsed": true
   },
   "outputs": [],
   "source": []
  }
 ],
 "metadata": {
  "kernelspec": {
   "display_name": "Python 3",
   "language": "python",
   "name": "python3"
  },
  "language_info": {
   "codemirror_mode": {
    "name": "ipython",
    "version": 3
   },
   "file_extension": ".py",
   "mimetype": "text/x-python",
   "name": "python",
   "nbconvert_exporter": "python",
   "pygments_lexer": "ipython3",
   "version": "3.6.3"
  }
 },
 "nbformat": 4,
 "nbformat_minor": 2
}
