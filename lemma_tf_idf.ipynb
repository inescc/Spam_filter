{
 "cells": [
  {
   "cell_type": "markdown",
   "metadata": {},
   "source": [
    "# TFIDF"
   ]
  },
  {
   "cell_type": "code",
   "execution_count": 1,
   "metadata": {
    "collapsed": true
   },
   "outputs": [],
   "source": [
    "%config IPCompleter.greedy=True"
   ]
  },
  {
   "cell_type": "markdown",
   "metadata": {},
   "source": [
    "### Import packages"
   ]
  },
  {
   "cell_type": "code",
   "execution_count": 2,
   "metadata": {
    "collapsed": true
   },
   "outputs": [],
   "source": [
    "import numpy as np  \n",
    "import pandas as pd \n",
    "## nltk\n",
    "from nltk.tokenize import RegexpTokenizer \n",
    "from nltk.corpus import stopwords\n",
    "from nltk.stem import PorterStemmer\n",
    "from nltk.stem.snowball import SnowballStemmer\n",
    "from nltk.stem import WordNetLemmatizer\n",
    "import re\n",
    "## sklearn\n",
    "from sklearn.metrics import average_precision_score, accuracy_score\n",
    "from sklearn.model_selection import GridSearchCV\n",
    "from sklearn.model_selection import train_test_split \n",
    "from sklearn.feature_extraction.text import TfidfVectorizer\n",
    "## classifiers\n",
    "from sklearn.neighbors import KNeighborsClassifier\n",
    "from sklearn import tree\n",
    "from sklearn.ensemble import RandomForestClassifier\n",
    "from sklearn.svm import SVC\n",
    "from sklearn.naive_bayes import MultinomialNB\n",
    "from sklearn.gaussian_process import GaussianProcessClassifier\n",
    "## pipeline\n"
   ]
  },
  {
   "cell_type": "markdown",
   "metadata": {},
   "source": [
    "### Data"
   ]
  },
  {
   "cell_type": "code",
   "execution_count": 3,
   "metadata": {
    "collapsed": true
   },
   "outputs": [],
   "source": [
    "train = pd.read_csv('./emails.train.csv')\n",
    "text = train['text']"
   ]
  },
  {
   "cell_type": "markdown",
   "metadata": {},
   "source": [
    "### Define methods "
   ]
  },
  {
   "cell_type": "code",
   "execution_count": 4,
   "metadata": {
    "collapsed": true
   },
   "outputs": [],
   "source": [
    "re_tokenizer = RegexpTokenizer(r'\\b[^\\d\\W]+\\b') # tokenize words that are not numbers\n",
    "mystopwords = set(stopwords.words('english')) # stop words remover\n",
    "extras = set(['_', 'subject']) # remove subject and _\n",
    "mystopwords.update(extras)\n",
    "ps = PorterStemmer() # stemming words\n",
    "#stemmer = SnowballStemmer(\"english\") # stemming words\n",
    "lemmatizer = WordNetLemmatizer() # lemmatizing words"
   ]
  },
  {
   "cell_type": "markdown",
   "metadata": {},
   "source": [
    "### Lemmatizing words"
   ]
  },
  {
   "cell_type": "code",
   "execution_count": 24,
   "metadata": {
    "collapsed": true
   },
   "outputs": [],
   "source": [
    "## First, lemmatize and create list of words\n",
    "def lemma(df):\n",
    "    # lemmatize \n",
    "    for i, line in enumerate(df['text']): \n",
    "        newline = [] \n",
    "        words = line.split() \n",
    "        for word in words: \n",
    "            word = lemmatizer.lemmatize(word)\n",
    "            newline.append(word)\n",
    "\n",
    "        new = ' '.join(newline)  \n",
    "        df.loc[i, 'text'] = new # replace line at the index position with the new line that is the lemmatized words\n",
    "\n",
    "\n",
    "lemma(train)"
   ]
  },
  {
   "cell_type": "markdown",
   "metadata": {},
   "source": [
    "### Split set for cross validation"
   ]
  },
  {
   "cell_type": "code",
   "execution_count": 38,
   "metadata": {
    "collapsed": true
   },
   "outputs": [],
   "source": [
    "## data\n",
    "train = pd.read_csv('./emails.train.csv')\n",
    "test  = pd.read_csv('./emails.test.csv')\n",
    "\n",
    "lemma(train)\n",
    "lemma(test)\n",
    "\n",
    "\n",
    "# Get labels splitted set\n",
    "subtrain_X, subval_X = train_test_split(train, test_size = 0.25, )\n",
    "\n",
    "Y_train = train['spam']\n",
    "Y_test = test['spam']"
   ]
  },
  {
   "cell_type": "markdown",
   "metadata": {},
   "source": [
    "### Tfidf and feature extraction"
   ]
  },
  {
   "cell_type": "code",
   "execution_count": 29,
   "metadata": {
    "collapsed": true
   },
   "outputs": [],
   "source": [
    "vectorizer = TfidfVectorizer(stop_words=mystopwords, tokenizer=re_tokenizer.tokenize, max_features = 2000)\n",
    "vectorizer.fit(train['text'])\n",
    "\n",
    "X_train = vectorizer.transform(train['text']).todense() ## features\n",
    "X_test = vectorizer.transform(test['text']).todense() ## features\n"
   ]
  },
  {
   "cell_type": "markdown",
   "metadata": {},
   "source": [
    "### Model 1: KNN Classifier"
   ]
  },
  {
   "cell_type": "code",
   "execution_count": 30,
   "metadata": {},
   "outputs": [
    {
     "name": "stdout",
     "output_type": "stream",
     "text": [
      "{'n_neighbors': 5, 'p': 2}\n",
      "0.96891320567\n"
     ]
    }
   ],
   "source": [
    "## First, grid search to look for the optimal parameters\n",
    "\n",
    "knn = KNeighborsClassifier()\n",
    "params = {\n",
    "    'n_neighbors': [1, 2, 5],\n",
    "    'p': [1, 2]\n",
    "}\n",
    "\n",
    "grid_search = GridSearchCV(knn,params,n_jobs=-1) ## -1 is faster\n",
    "\n",
    "grid_search.fit(X_train, Y_train)\n",
    "\n",
    "print(grid_search.best_params_)\n",
    "print(grid_search.best_score_)\n"
   ]
  },
  {
   "cell_type": "markdown",
   "metadata": {},
   "source": [
    "#### Best parameters"
   ]
  },
  {
   "cell_type": "code",
   "execution_count": 9,
   "metadata": {
    "collapsed": true
   },
   "outputs": [],
   "source": [
    "estimator = grid_search.best_estimator_ "
   ]
  },
  {
   "cell_type": "markdown",
   "metadata": {},
   "source": [
    "#### Prediction"
   ]
  },
  {
   "cell_type": "code",
   "execution_count": 10,
   "metadata": {
    "collapsed": true
   },
   "outputs": [],
   "source": [
    "Y_pred = estimator.predict(X_test)"
   ]
  },
  {
   "cell_type": "markdown",
   "metadata": {},
   "source": [
    "#### Write to csv solution"
   ]
  },
  {
   "cell_type": "code",
   "execution_count": 11,
   "metadata": {
    "collapsed": true
   },
   "outputs": [],
   "source": [
    "pd.DataFrame({\n",
    "    'id': test.id,\n",
    "    'spam': Y_pred\n",
    "}).to_csv('predictions.knn.csv', index=False)"
   ]
  },
  {
   "cell_type": "markdown",
   "metadata": {},
   "source": [
    "### Model 2 Decision Tree"
   ]
  },
  {
   "cell_type": "code",
   "execution_count": 31,
   "metadata": {},
   "outputs": [
    {
     "name": "stdout",
     "output_type": "stream",
     "text": [
      "0.946104276508\n"
     ]
    }
   ],
   "source": [
    "dtree = tree.DecisionTreeClassifier()\n",
    "\n",
    "dtree.fit(X_train, Y_train)\n",
    "\n",
    "Y_pred = dtree.predict(X_test)\n",
    "\n",
    "print(accuracy_score(Y_test, Y_pred))\n",
    "\n",
    "\n",
    "pd.DataFrame({\n",
    "    'id': test.id,\n",
    "    'spam': Y_pred\n",
    "}).to_csv('predictions.dtree.csv', index=False)\n",
    "\n"
   ]
  },
  {
   "cell_type": "markdown",
   "metadata": {},
   "source": [
    "### Model 3 Random Forest Classifier"
   ]
  },
  {
   "cell_type": "code",
   "execution_count": 32,
   "metadata": {},
   "outputs": [
    {
     "name": "stdout",
     "output_type": "stream",
     "text": [
      "{'max_depth': 10, 'n_estimators': 20}\n",
      "0.922904750062\n"
     ]
    }
   ],
   "source": [
    "## First, grid search to look for the optimal parameters\n",
    "\n",
    "rforest = RandomForestClassifier()\n",
    "params = {\n",
    "    'n_estimators': [10, 20, 50],\n",
    "    'max_depth': [1, 2, 10]\n",
    "}\n",
    "\n",
    "grid_search = GridSearchCV(rforest,params, n_jobs=-1)\n",
    "\n",
    "grid_search.fit(X_train, Y_train)\n",
    "\n",
    "print(grid_search.best_params_)\n",
    "print(grid_search.best_score_)"
   ]
  },
  {
   "cell_type": "markdown",
   "metadata": {},
   "source": [
    "#### Best parameters"
   ]
  },
  {
   "cell_type": "code",
   "execution_count": 14,
   "metadata": {
    "collapsed": true
   },
   "outputs": [],
   "source": [
    "estimator = grid_search.best_estimator_ "
   ]
  },
  {
   "cell_type": "markdown",
   "metadata": {},
   "source": [
    "#### Prediction"
   ]
  },
  {
   "cell_type": "code",
   "execution_count": 15,
   "metadata": {
    "collapsed": true
   },
   "outputs": [],
   "source": [
    "Y_pred = estimator.predict(X_test)"
   ]
  },
  {
   "cell_type": "markdown",
   "metadata": {},
   "source": [
    "#### Write to csv solution"
   ]
  },
  {
   "cell_type": "code",
   "execution_count": 16,
   "metadata": {
    "collapsed": true
   },
   "outputs": [],
   "source": [
    "pd.DataFrame({\n",
    "    'id': test.id,\n",
    "    'spam': Y_pred\n",
    "}).to_csv('predictions.rforest.csv', index=False)"
   ]
  },
  {
   "cell_type": "markdown",
   "metadata": {},
   "source": [
    "### Model 4 SVM "
   ]
  },
  {
   "cell_type": "code",
   "execution_count": 33,
   "metadata": {},
   "outputs": [
    {
     "name": "stdout",
     "output_type": "stream",
     "text": [
      "0.756883421207\n"
     ]
    }
   ],
   "source": [
    "svm = SVC()\n",
    "\n",
    "svm.fit(X_train, Y_train) \n",
    "\n",
    "Y_pred = svm.predict(X_test)\n",
    "\n",
    "print(accuracy_score(Y_test, Y_pred))\n",
    "\n",
    "## write to csv\n",
    "\n",
    "pd.DataFrame({\n",
    "    'id': test.id,\n",
    "    'spam': Y_pred\n",
    "}).to_csv('predictions.svm.csv', index=False)"
   ]
  },
  {
   "cell_type": "markdown",
   "metadata": {},
   "source": [
    "### Model 5 Multinomial Naive Bayes"
   ]
  },
  {
   "cell_type": "code",
   "execution_count": 34,
   "metadata": {},
   "outputs": [
    {
     "name": "stdout",
     "output_type": "stream",
     "text": [
      "0.976567076743\n"
     ]
    }
   ],
   "source": [
    "nb = MultinomialNB()\n",
    "\n",
    "nb.fit(X_train, Y_train)\n",
    "\n",
    "Y_pred = nb.predict(X_test)\n",
    "\n",
    "print(accuracy_score(Y_test, Y_pred))\n",
    "\n",
    "## write to csv\n",
    "\n",
    "pd.DataFrame({\n",
    "    'id': test.id,\n",
    "    'spam': Y_pred\n",
    "}).to_csv('predictions.nb.csv', index=False)"
   ]
  },
  {
   "cell_type": "markdown",
   "metadata": {},
   "source": [
    "### Model 6 Gaussian Process Classifier "
   ]
  },
  {
   "cell_type": "code",
   "execution_count": 35,
   "metadata": {},
   "outputs": [
    {
     "name": "stdout",
     "output_type": "stream",
     "text": [
      "0.9589923843\n"
     ]
    }
   ],
   "source": [
    "gp = GaussianProcessClassifier()\n",
    "\n",
    "gp.fit(X_train, Y_train)\n",
    "\n",
    "Y_pred = gp.predict(X_test)\n",
    "\n",
    "print(accuracy_score(Y_test, Y_pred))\n",
    "\n",
    "## write to csv\n",
    "\n",
    "pd.DataFrame({\n",
    "    'id': test.id,\n",
    "    'spam': Y_pred\n",
    "}).to_csv('predictions.gp.csv', index=False)"
   ]
  },
  {
   "cell_type": "code",
   "execution_count": null,
   "metadata": {
    "collapsed": true
   },
   "outputs": [],
   "source": [
    "Predictions "
   ]
  }
 ],
 "metadata": {
  "kernelspec": {
   "display_name": "Python 3",
   "language": "python",
   "name": "python3"
  },
  "language_info": {
   "codemirror_mode": {
    "name": "ipython",
    "version": 3
   },
   "file_extension": ".py",
   "mimetype": "text/x-python",
   "name": "python",
   "nbconvert_exporter": "python",
   "pygments_lexer": "ipython3",
   "version": "3.6.3"
  }
 },
 "nbformat": 4,
 "nbformat_minor": 2
}
